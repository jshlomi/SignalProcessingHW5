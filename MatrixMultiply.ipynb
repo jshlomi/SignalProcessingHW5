{
 "cells": [
  {
   "cell_type": "markdown",
   "metadata": {},
   "source": [
    "**Given a set of ordered matrices with dimentions n1 ×n2, n2 ×n3, ....nk ×nk+1, we want\n",
    "to calculate their multiplication.**\n",
    "\n",
    "**Construct an algorithm to find the optimal order of\n",
    "associative multiplying (can multiply ((M1\u0003M2)\u0003M3)\u0003M4 or M1\u0003((M2\u0003M3)\u0003M4) or\n",
    "(M1\u0003M2)\u0003(M3\u0003M4) or ... ) such that the complexity of the entire matrix multiplication\n",
    "would be minimal. (Complexity of multiplying two matrices of dimentions n × m and\n",
    "m × l is n \u0003 m \u0003 l).**\n",
    "\n",
    "**What is the complexity of the algorithm (as function of k)? **\n",
    "\n",
    "**How much memory does it require? Implement the algorithm and attach the code.**\n",
    "\n",
    "**Hint: Follow the general logic of dynamic programming, define sub-problems that will\n",
    "help you solve the bigger problem.**"
   ]
  },
  {
   "cell_type": "markdown",
   "metadata": {},
   "source": [
    "if we start from the full matrix sequence, and then try every possible way to split it to two sub-sequences,\n",
    "we can find the split which gives minimal cost by calling the function recursivly on every sub-sequence.\n",
    "\n",
    "the smallest sub-problem is finding the minimal cost of a chain of two matrices and since there is only one way to multiply them the minimal complexity is just the complexity.\n",
    "\n",
    "the algorithm is:\n",
    "given a sequence, compute the complexity of every possible way to split it into two parts, for each sub sequence we encounter, we save the minimal complexity and the matching partition. and then for every sub sequence we check if that particular sub-sequence was already done.\n",
    "\n",
    "for a sequence of length $n$, ABCDEF... we can compute the number of possible sub-sequences as a sum of an arithmatic series - first we have n subsequences A, AB, ABC, ABCD, etc, then n-1, B, BC, BCD,... which sums to $\\frac{n}{2}(n+1)$. we can subtract elements of length 1 (A,B etc), but for large $n$ the order of magnitude of the number of values to be stored in memory is $\\frac{1}{2} n^2$\n",
    "\n",
    "the complexity of the algorithm is $O(n^3)$, since we are going to partition the whole sequence n times, and in each partition we will encounter something of the order of all sub-sequences - which are $\\sim n^{2}$."
   ]
  },
  {
   "cell_type": "code",
   "execution_count": 197,
   "metadata": {
    "collapsed": true
   },
   "outputs": [],
   "source": [
    "\n",
    "def matrixComp(n,m,l):\n",
    "    return n*m*l\n",
    "\n",
    "## recursive \n",
    "def MatrixOrder(names, dimensions,Memoization_dict):\n",
    "    \n",
    "    # if we have N matrices, dimensions is a list of length N+1,\n",
    "    # with the dimensions of the i'th matrix being dimensions[i-1] X dimensions[i]\n",
    "    n = len(dimensions)-1\n",
    "    \n",
    "    if n==1:\n",
    "        \n",
    "        return [0,names]\n",
    "    \n",
    "    \n",
    "    if ':'.join(names) in Memoization_dict:\n",
    "     \n",
    "        return Memoization_dict[':'.join(names)]\n",
    "    \n",
    "    \n",
    "    if(n==2):\n",
    "        \n",
    "        cost = matrixComp(dimensions[0],dimensions[1],dimensions[2])\n",
    "        split = [names[0],names[1]]\n",
    "        Memoization_dict[':'.join(names)] = [ cost, split ]\n",
    "        return Memoization_dict[':'.join(names)]\n",
    "    \n",
    "    #for a matrix chain ABCDEFG\n",
    "    #possible splits are after indexes 1 (A)(BCDEFG), 2 (AB)(CDEFG) 3, ... until after index N-2 (ABCDEF)(G) \n",
    "    \n",
    "    cost = -1\n",
    "    split = -1\n",
    "    \n",
    "    for splitindex in range(1,n):\n",
    "        \n",
    "        subseq1 = dimensions[0:splitindex+1]\n",
    "        \n",
    "        namesSeq1 = names[0:splitindex]\n",
    "        \n",
    "        subseq2 = dimensions[splitindex:]\n",
    "        \n",
    "        namesSeq2 = names[splitindex :]\n",
    "        \n",
    "        #print namesSeq1,' ',namesSeq2\n",
    "        #print subseq1, ' ',subseq2\n",
    "        #print '------------------'\n",
    "        \n",
    "        cost1, split1 = MatrixOrder(namesSeq1,subseq1,Memoization_dict)\n",
    "        cost2, split2 = MatrixOrder(namesSeq2,subseq2,Memoization_dict)\n",
    "        \n",
    "        totalcost = cost1+cost2+subseq1[0]*subseq2[0]*subseq2[-1]\n",
    "        \n",
    "        #print 'totalcost ',totalcost\n",
    "        \n",
    "        if cost<0 or totalcost < cost:\n",
    "            cost = totalcost\n",
    "            split = [split1,split2]\n",
    "        \n",
    "    \n",
    "    Memoization_dict[':'.join(names)] = [ cost, split ]\n",
    "    return cost, split\n",
    "\n"
   ]
  },
  {
   "cell_type": "markdown",
   "metadata": {},
   "source": [
    "lets test with a simple 3 matrix case:"
   ]
  },
  {
   "cell_type": "code",
   "execution_count": 223,
   "metadata": {
    "collapsed": false
   },
   "outputs": [
    {
     "data": {
      "text/plain": [
       "(4500, [['A', 'B'], ['C']])"
      ]
     },
     "execution_count": 223,
     "metadata": {},
     "output_type": "execute_result"
    }
   ],
   "source": [
    "Memoization_dict = {}\n",
    "matrixNames = ['A','B','C']\n",
    "dimesions = [10,30,5,60]\n",
    "MatrixOrder(matrixNames, dimesions,Memoization_dict)"
   ]
  },
  {
   "cell_type": "markdown",
   "metadata": {},
   "source": [
    "good, this is consistent with the example in\n",
    "https://en.wikipedia.org/wiki/Matrix_chain_multiplication"
   ]
  },
  {
   "cell_type": "markdown",
   "metadata": {},
   "source": [
    "now we can experimentallly verify that the algorithm operate in O(n^3) time and the memory required is O(0.5*n^2)"
   ]
  },
  {
   "cell_type": "code",
   "execution_count": 201,
   "metadata": {
    "collapsed": false
   },
   "outputs": [],
   "source": [
    "import random\n",
    "import datetime\n",
    "\n",
    "def RandomTest(k):\n",
    "    # create test matrix chain\n",
    "    # k-1 is the number of matrices in chain\n",
    "    #k = 100\n",
    "    \n",
    "    samplechain = []\n",
    "    matrixNames = []\n",
    "    \n",
    "    for x in range(k):\n",
    "        if x < k-1:\n",
    "            matrixNames.append( str(x) )\n",
    "        \n",
    "        samplechain.append(random.randint(1,60))\n",
    "    \n",
    "    #print matrixNames\n",
    "    #print samplechain\n",
    "    \n",
    "    Memoization_dict = {}\n",
    "    starttime = datetime.datetime.now()\n",
    "    cost, split = MatrixOrder(matrixNames, samplechain,Memoization_dict)\n",
    "    endtime = datetime.datetime.now()\n",
    "    \n",
    "    return [k-1,int ( ((endtime-starttime).microseconds)/1000 ) , len(Memoization_dict)]\n"
   ]
  },
  {
   "cell_type": "code",
   "execution_count": 226,
   "metadata": {
    "collapsed": false
   },
   "outputs": [],
   "source": [
    "%matplotlib inline\n",
    "\n",
    "import matplotlib.pyplot as plt\n",
    "import numpy as np\n",
    "\n",
    "xaxis_n = []\n",
    "yaxis_time = []\n",
    "yaxis_memory = []\n",
    "\n",
    "for k in range(50,100):\n",
    "    n,t,memsize = RandomTest(k)\n",
    "    xaxis_n.append(n)\n",
    "    yaxis_time.append(t)\n",
    "    yaxis_memory.append(memsize)\n",
    "\n"
   ]
  },
  {
   "cell_type": "code",
   "execution_count": 227,
   "metadata": {
    "collapsed": false
   },
   "outputs": [
    {
     "data": {
      "image/png": "[encoded data removed]",
      "text/plain": [
       "<matplotlib.figure.Figure at 0x10635a390>"
      ]
     },
     "metadata": {},
     "output_type": "display_data"
    }
   ],
   "source": [
    "x = np.linspace(40,110,50)\n",
    "y = (1.0/1100)*x**3\n",
    "\n",
    "plt.scatter(xaxis_n, yaxis_time)\n",
    "plt.xlabel('N')\n",
    "plt.ylabel('time [milliseconds]')\n",
    "plt.plot(x,y)\n",
    "plt.show()"
   ]
  },
  {
   "cell_type": "code",
   "execution_count": 228,
   "metadata": {
    "collapsed": false
   },
   "outputs": [
    {
     "data": {
      "image/png": "[encoded data removed]",
      "text/plain": [
       "<matplotlib.figure.Figure at 0x106518750>"
      ]
     },
     "metadata": {},
     "output_type": "display_data"
    }
   ],
   "source": [
    "x = np.linspace(40,110,50)\n",
    "y = (1.0/2)*x**2\n",
    "\n",
    "plt.scatter(xaxis_n, yaxis_memory)\n",
    "plt.xlabel('N')\n",
    "plt.ylabel('Memoization size')\n",
    "plt.plot(x,y)\n",
    "plt.show()"
   ]
  },
  {
   "cell_type": "code",
   "execution_count": null,
   "metadata": {
    "collapsed": true
   },
   "outputs": [],
   "source": []
  }
 ],
 "metadata": {
  "kernelspec": {
   "display_name": "Python 2",
   "language": "python",
   "name": "python2"
  },
  "language_info": {
   "codemirror_mode": {
    "name": "ipython",
    "version": 2
   },
   "file_extension": ".py",
   "mimetype": "text/x-python",
   "name": "python",
   "nbconvert_exporter": "python",
   "pygments_lexer": "ipython2",
   "version": "2.7.10"
  }
 },
 "nbformat": 4,
 "nbformat_minor": 0
}
