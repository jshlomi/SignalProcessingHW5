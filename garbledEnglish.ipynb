{
 "cells": [
  {
   "cell_type": "code",
   "execution_count": 6,
   "metadata": {
    "collapsed": true
   },
   "outputs": [],
   "source": [
    "%matplotlib inline\n",
    "\n",
    "import matplotlib\n",
    "import numpy as np\n",
    "import matplotlib.pyplot as plt\n",
    "plt.rcParams['figure.figsize'] = (5,5)"
   ]
  },
  {
   "cell_type": "markdown",
   "metadata": {},
   "source": [
    "## _Recovering grabled English_:\n",
    "\n",
    "# Table of contents\n",
    "\n",
    "1. [part (a), building the markov model](#markov)\n",
    "2. [parts (c) and (d), the forward algorithm](#forward)\n",
    "3. [part (b)+(e), testing the Viterbi algorithm](#Viterbi)\n",
    "4. [part (f), optimal test for seperating garbeled text from random text](#test)\n",
    "\n",
    "\n",
    "\n",
    "(a) Build a Markov model for the english language using some downloaded book on\n",
    "the internet. The model should contain the transition probabilities between every\n",
    "two states, each state consists of one letter (including spaces, commas and stops.\n",
    "i.e., ”cat says miau” is expressed as ”c”-> ”a” -> ”t” ->” ”-> ”s” ...).[link](#markov)\n",
    "\n",
    "(b) Pick 10 long english sentences, for each sentence, for every letter (or symbol), with\n",
    "probability 0.5 replace it with a random letter and with probability 0.5 leave it\n",
    "intact. **for the implementation, see part(e) where its used**\n",
    "\n",
    "(c) Write the formula for the likelihood of a sequence of letters given the statistical\n",
    "model created by applying the garbling process in (b) to outputs of the Markov\n",
    "model in (a).[link](#forward)\n",
    "\n",
    "(d) Implement the Forward algorithm. Test that you have calculated the exact likeli-\n",
    "hood of a short sequence of letters for which you can calculate the likelihood by\n",
    "brute force. Warning: exponentiating small numbers will cause numerical precision\n",
    "loss. In the algorithm, when calculating the log of the addition of two exponents\n",
    "of large negative numbers, take out the smaller negative number as a common\n",
    "multiplicative. For example:[link](#forward)\n",
    "\n",
    "log(e−1001 + e−1002) = log(e−1001\u0003 (1 + e−1)) = −1001 + log(1 + e−1) .\n",
    "\n",
    "(e) Implement the Viterbi algorithm. See if you can recover the original sentence from\n",
    "the scrambled one.[link](#Viterbi)\n",
    "\n",
    "(f) Write an optimal test for deciding if a given sequence of letters is garbeled english\n",
    "(with known garbling probability) or a random sequence of letters (same as garbling\n",
    "of 100%). Vary the garbling probability in the range 1% to 99%, and apply the test\n",
    "on a text of length 1000 letters with this garbling probability. At what garbling\n",
    "probability you cannot statistically decide if the text is garbled english or random?\n",
    "Pick the maximal garbling probability for which the success of this decision process\n",
    "is > 95%. Apply the Viterbi algoirthm to recover the most likely text on a sample\n",
    "of garbled english. Does it work?\n"
   ]
  },
  {
   "cell_type": "markdown",
   "metadata": {},
   "source": [
    "<a id=\"markov\"></a>"
   ]
  },
  {
   "cell_type": "code",
   "execution_count": 7,
   "metadata": {
    "collapsed": false
   },
   "outputs": [
    {
     "name": "stdout",
     "output_type": "stream",
     "text": [
      "abcdefghijklmnopqrstuvwxyz ,.\n"
     ]
    }
   ],
   "source": [
    "#the states in our markov model:\n",
    "\n",
    "import string\n",
    "letters = string.ascii_lowercase+' ,.'\n",
    "\n",
    "print letters"
   ]
  },
  {
   "cell_type": "markdown",
   "metadata": {},
   "source": [
    "**(a) Build a Markov model for the english language using some downloaded book on the internet. The model should contain the transition probabilities between every two states, each state consists of one letter (including spaces, commas and stops. i.e., ”cat says miau” is expressed as ”c”-> ”a” -> ”t” ->” ”-> ”s” ...).**"
   ]
  },
  {
   "cell_type": "code",
   "execution_count": 8,
   "metadata": {
    "collapsed": false
   },
   "outputs": [],
   "source": [
    "# loading some books to calculate letter transition frequency\n",
    "\n",
    "import unicodedata\n",
    "import codecs\n",
    "\n",
    "#all books were downloaded from https://www.gutenberg.org/\n",
    "f = codecs.open('WarAndPeace.txt', encoding='utf-8')\n",
    "lines = f.readlines()\n",
    "f.close()\n",
    "\n",
    "f = codecs.open('SherlockHolmes.txt', encoding='utf-8')\n",
    "lines += f.readlines()\n",
    "f.close()\n",
    "\n",
    "#not the most elegant way to clean it up, but it works...\n",
    "lines = [unicodedata.normalize('NFKD', x).encode('ascii', 'ignore').rstrip() for x in lines]\n",
    "lines = \" \".join(lines)\n",
    "lines = \"\".join([x.lower() if x.lower() in letters else ' ' for x in lines  ])\n",
    "lines = ' '.join( lines.split()) #get rid of extra spaces"
   ]
  },
  {
   "cell_type": "code",
   "execution_count": 9,
   "metadata": {
    "collapsed": false
   },
   "outputs": [
    {
     "data": {
      "text/plain": [
       "'strate, on the assassination of his superior in office. the disputed election of . while taking note of the long years of republican supremacy, it must be recorded that grave doubts exist in the minds of many historians as to whether one of the three presidents, hayes, was actually the victor in or not. his democratic opponent, samuel j. tilden, received a popular plurality of a quarter of a million and had a plausible claim to a majority of the electoral vote. at all events, four states sent in double returns, one set for tilden and another for hayes and a deadlock ensued. both parties vehemently claimed the election and the passions ran so high that sober men did not shrink from speaking of civil war again. fortunately, in the end, the counsels of peace prevailed. congress provided for a'"
      ]
     },
     "execution_count": 9,
     "metadata": {},
     "output_type": "execute_result"
    }
   ],
   "source": [
    "#some example text\n",
    "lines[4500000 : 4500000+800]"
   ]
  },
  {
   "cell_type": "code",
   "execution_count": 10,
   "metadata": {
    "collapsed": false
   },
   "outputs": [
    {
     "data": {
      "image/png": "[encoded data removed]",
      "text/plain": [
       "<matplotlib.figure.Figure at 0x10c4ea050>"
      ]
     },
     "metadata": {},
     "output_type": "display_data"
    }
   ],
   "source": [
    "#build the matrix of letter transitions:\n",
    "\n",
    "transition_dict = {}\n",
    "\n",
    "#intilise empty dictionary\n",
    "for firstLetter in letters:\n",
    "    transition_dict[firstLetter] = {}\n",
    "    transition_dict[firstLetter]['total']=0   \n",
    "    for secondLetter in letters:\n",
    "        transition_dict[firstLetter][secondLetter]=0\n",
    "\n",
    "#go through the book, count instances of transitions and the total number of times a letter has appeared \n",
    "for i,letter in enumerate(lines):\n",
    "    if i < len(lines)-2:\n",
    "        transition_dict[letter][lines[i+1]]+=1\n",
    "        transition_dict[letter]['total']+=1\n",
    "\n",
    "        \n",
    "#create a log(p) transition dictionary\n",
    "transition_dictLog = {}\n",
    "\n",
    "for letter in letters:\n",
    "    transition_dictLog[letter] = {}\n",
    "    for letter2 in letters:\n",
    "        if transition_dict[letter][letter2] > 0:\n",
    "            transition_dictLog[letter][letter2] = np.log( transition_dict[letter][letter2] ) - np.log( transition_dict[letter]['total'] )\n",
    "        else:\n",
    "            transition_dictLog[letter][letter2] = '-infinity'\n",
    "            \n",
    "np.save('dict.npy',transition_dictLog)\n",
    "\n",
    "#calculate a map of probablities\n",
    "lettermap = []\n",
    "for firstLetter in letters:\n",
    "    if firstLetter in ' .,':\n",
    "        continue\n",
    "    lettermap.append([])\n",
    "   \n",
    "    for secondLetter in letters:\n",
    "        if secondLetter in ' .,':\n",
    "            continue\n",
    "        lettermap[-1].append(transition_dict[firstLetter][secondLetter])\n",
    "        #normalize each entry to a probability\n",
    "        if(lettermap[-1][-1]==0):\n",
    "            lettermap[-1][-1] = -12.0 #proxy for -infinity\n",
    "            continue\n",
    "        lettermap[-1][-1] = np.log( float(lettermap[-1][-1])/float(transition_dict[firstLetter]['total']) )\n",
    "        \n",
    "#draw matrix\n",
    "heatmap = plt.pcolor(lettermap,cmap='Reds')\n",
    "#heatmap = plt.imshow(lettermap, cmap='Blues', interpolation='none')\n",
    "plt.colorbar(heatmap,label='log(probability)')\n",
    "my_xticks = [x for x in string.ascii_lowercase]\n",
    "x = np.linspace(1,len(string.ascii_lowercase),len(string.ascii_lowercase))\n",
    "plt.xticks(x, my_xticks)\n",
    "plt.yticks(x, my_xticks)\n",
    "\n",
    "plt.show()\n"
   ]
  },
  {
   "cell_type": "markdown",
   "metadata": {},
   "source": [
    "(b) Pick 10 long english sentences, for each sentence, for every letter (or symbol), with\n",
    "probability 0.5 replace it with a random letter and with probability 0.5 leave it\n",
    "intact. - **I will move this code down next to where we use it, for the Viterbi algorithm**"
   ]
  },
  {
   "cell_type": "markdown",
   "metadata": {
    "collapsed": false
   },
   "source": [
    "<a id=\"forward\"></a>"
   ]
  },
  {
   "cell_type": "markdown",
   "metadata": {
    "collapsed": false
   },
   "source": [
    "### Forward algorithm\n",
    "\n",
    "(c) Write the formula for the likelihood of a sequence of letters given the statistical\n",
    "model created by applying the garbling process in (b) to outputs of the Markov\n",
    "model in (a).\n",
    "\n",
    "The probability P( output sentence of length N ) is the sum over all possible sentences of length N of the product of the probability to generate that sentence with the markov model and the probability to get that garbeled sequence from that original sentence\n",
    "\n",
    "$P_{(Y=\\text{output sentence of length N})} = \\sum_{X = \\text{N letter combinations}} P_{(X|\\text{Markov model})}\\cdot P_{(Y|X)}$\n",
    "\n",
    "the probability $P_{(X|\\text{Markov model})}$ is the product of transition probablities for the letters in the sequence X\n",
    "\n",
    "and $P_{(Y|X)}$ is the product of probablities of emitting letter $Y_{i}$ from $X_{i}$ which for a given garbeling probablitiy $p_{garble}$ is:\n",
    "\n",
    "$P_{(y_{i}|x_{i})}=\\begin{cases}\n",
    "(1-p)+p\\cdot1/N & x_{i}=y_{i}\\\\\n",
    "p\\cdot1/N & x_{i}\\neq y_{i}\n",
    "\\end{cases}$\n",
    "\n",
    "where N is the number of possible characters in our model\n",
    "\n",
    "(d) Implement the Forward algorithm. Test that you have calculated the exact likelihood of a short sequence of letters for which you can calculate the likelihood by\n",
    "brute force. "
   ]
  },
  {
   "cell_type": "code",
   "execution_count": 11,
   "metadata": {
    "collapsed": false
   },
   "outputs": [],
   "source": [
    "##the Forward algorithm\n",
    "## we will have numerical issues if our probabilites are too small, so we will use log(p) for all probabilities\n",
    "\n",
    "def logProbMultiply(logp,logq):\n",
    "    if logp == '-infinity' or logq == '-infinity':\n",
    "        return '-infinity'\n",
    "    else:\n",
    "        return logp+logq\n",
    "\n",
    "def logProbAddition(logp, logq):\n",
    "    #ln(e^p+e^q) = p + ln(e^(q-p) + 1)\n",
    "    if logp == '-infinity' and logq == '-infinity':\n",
    "        return '-infinity'\n",
    "    if logp == '-infinity':\n",
    "        return logq\n",
    "    if logq == '-infinity':\n",
    "        return logp\n",
    "    \n",
    "    if logp > logq:\n",
    "        return logp + np.log(1.0+ np.exp(logq-logp))\n",
    "    else:\n",
    "        return logq + np.log(1.0+ np.exp(logp-logq))\n",
    "\n",
    "def emissionProb(y,x,garbleProb,nStates):\n",
    "    if x==y:\n",
    "        return (1-garbleProb)+garbleProb*1.0/float(nStates)\n",
    "    else:\n",
    "        return garbleProb*1.0/float(nStates)    \n",
    "\n",
    "\n",
    "\n",
    "def pOutputSequence(output_sentence,states,markovModel,garbleProb):\n",
    "    \n",
    "    seqLength = len(output_sentence)\n",
    "    \n",
    "    numberOfStates = len(states)\n",
    "    \n",
    "    ProbMatrix = np.zeros((numberOfStates,seqLength))\n",
    "    \n",
    "    for t in range(0,seqLength):\n",
    "        yT = output_sentence[t]\n",
    "        \n",
    "        for i, state in enumerate(states):\n",
    "            \n",
    "            xT = state\n",
    "            \n",
    "            emission = np.log( emissionProb(yT,xT,garbleProb,numberOfStates) )\n",
    "            \n",
    "            if t==0: #filling the first column, we dont need to sum of previous states\n",
    "                \n",
    "                ProbMatrix[i][t] = emission\n",
    "            \n",
    "            else:\n",
    "                \n",
    "                sumOfProbs = '-infinity' # we start with prob=0\n",
    "                \n",
    "                for j in range(len(states)):\n",
    "                    ## the calculation we need is \n",
    "                    ## (prob sum over previous states where the last state was state_j) \n",
    "                    ## * (transitionProbability j to state_i )\n",
    "                    \n",
    "                    #the sum over previous states (log(p))\n",
    "                    previousSum = ProbMatrix[j][t-1]\n",
    "                    \n",
    "                    xTminus1 = states[j]\n",
    "\n",
    "                    transitionProb = markovModel[xTminus1][xT]\n",
    "\n",
    "                    #remember previousSum and transitionProb are log probablities, \n",
    "                    # and we need to multiply them (so add the logs),\n",
    "                    # and then add the probabilities \n",
    "                    \n",
    "                    sumOfProbs = logProbAddition( sumOfProbs ,  logProbMultiply( previousSum , transitionProb ) )\n",
    "                    \n",
    "                #this is multiplication of probabilites, so simple addition is enough\n",
    "                ProbMatrix[i][t] = logProbMultiply( emission , sumOfProbs )\n",
    "\n",
    "    \n",
    "    FinalProb = '-infinity'\n",
    "    for j in range(len(states)):\n",
    "\n",
    "        FinalProb =  logProbAddition( FinalProb, ProbMatrix[j][seqLength-1] )\n",
    "\n",
    "    return FinalProb\n",
    "\n",
    "\n",
    "#same code without using log probabilites, for a cross check\n",
    "def pOutputSequenceNoLog(output_sentence,states,markovModel,garbleProb):\n",
    "    \n",
    "    seqLength = len(output_sentence)\n",
    "    \n",
    "    numberOfStates = len(states)\n",
    "    \n",
    "    ProbMatrix = np.zeros((numberOfStates,seqLength))\n",
    "    \n",
    "    for t in range(0,seqLength):\n",
    "        yT = output_sentence[t]\n",
    "        \n",
    "        for i, state in enumerate(states):\n",
    "            \n",
    "            xT = state\n",
    "            \n",
    "            emission = emissionProb(yT,xT,garbleProb,numberOfStates)\n",
    "            \n",
    "            if t==0: #filling the first column, we dont need to sum of previous states\n",
    "                \n",
    "                ProbMatrix[i][t] = emission\n",
    "            \n",
    "            else:\n",
    "                \n",
    "                sumOfProbs = 0\n",
    "                \n",
    "                for j in range(len(states)):\n",
    "                    ## the calculation we need is \n",
    "                    ## (prob sum over previous states where the last state was state_j) \n",
    "                    ## * (transitionProbability j to state_i )\n",
    "                    \n",
    "                    #the sum over previous states (log(p))\n",
    "                    previousSum = ProbMatrix[j][t-1]\n",
    "                    \n",
    "                    xTminus1 = states[j]\n",
    "                    \n",
    "                    transitionProb =  markovModel[xTminus1][xT]/float(  markovModel[xTminus1]['total'] )\n",
    "                    \n",
    "                    #remember previousSum and transitionProb are log probablities, \n",
    "                    # and we need to multiply them (so add the logs),\n",
    "                    # and then add the probabilities \n",
    "                    \n",
    "                    sumOfProbs+= previousSum*transitionProb \n",
    "                    \n",
    "                #this is multiplication of probabilites, so simple addition is enough\n",
    "                ProbMatrix[i][t] =  emission*sumOfProbs \n",
    "\n",
    "    \n",
    "    FinalProb = 0\n",
    "    for j in range(len(states)):\n",
    "\n",
    "        FinalProb += ProbMatrix[j][seqLength-1] \n",
    "\n",
    "    return FinalProb\n",
    "\n",
    "    "
   ]
  },
  {
   "cell_type": "code",
   "execution_count": 12,
   "metadata": {
    "collapsed": false
   },
   "outputs": [
    {
     "name": "stdout",
     "output_type": "stream",
     "text": [
      "brute force       :  0.00489715627572\n",
      "forward algorithm :  0.00489715627573\n",
      "forward no log    :  0.00489715627573\n"
     ]
    }
   ],
   "source": [
    "##brute force calculation of the probablity for the three letter output sequence 'cat', \n",
    "## which was garbled with probablity 0.5\n",
    "\n",
    "#generate all possible sequences of length 3\n",
    "seqLength3 = []\n",
    "for i in range(len(letters)):\n",
    "    for j in range(len(letters)):\n",
    "        for k in range(len(letters)):\n",
    "            seqLength3.append(letters[i]+letters[j]+letters[k])\n",
    "\n",
    "#for each sequence, caclculate the probablity under the markov model\n",
    "markovProb = []\n",
    "for seq in seqLength3:    \n",
    "    if transition_dict[seq[0]][seq[1]] > 0:\n",
    "        markovProb.append( np.log( transition_dict[seq[0]][seq[1]] ) - np.log( transition_dict[seq[0]]['total'] ) )\n",
    "    else:\n",
    "        markovProb.append( '-infinity' )\n",
    "    if transition_dict[seq[1]][seq[2]] > 0:\n",
    "        markovProb[-1] = logProbMultiply( markovProb[-1], np.log( transition_dict[seq[1]][seq[2]] ) - np.log( transition_dict[seq[1]]['total'] ) )\n",
    "    else:\n",
    "        markovProb[-1] = '-infinity'\n",
    "\n",
    "#for each sequence, calculate the probablity to emit the sequence 'cat'\n",
    "emissionProbList = []\n",
    "for seq in seqLength3:\n",
    "    emissionProbList.append( emissionProb('c',seq[0],0.5,len(letters))*emissionProb('a',seq[1],0.5,len(letters))*emissionProb('t',seq[2],0.5,len(letters))  )\n",
    "    emissionProbList[-1] = np.log( emissionProbList[-1] )\n",
    "\n",
    "#multiply the elements, and sum them to get the final result\n",
    "BruteForceProb = '-infinity'\n",
    "for i in range(len(seqLength3)):\n",
    "    BruteForceProb =  logProbAddition( BruteForceProb , logProbMultiply( markovProb[i], emissionProbList[i] ) )\n",
    "    \n",
    "#compare different methods\n",
    "print 'brute force       : ', np.exp( BruteForceProb  )\n",
    "print 'forward algorithm : ', np.exp( pOutputSequence('cat',letters,transition_dictLog,0.5)  )\n",
    "print 'forward no log    : ', pOutputSequenceNoLog('cat',letters,transition_dict,0.5)"
   ]
  },
  {
   "cell_type": "markdown",
   "metadata": {},
   "source": [
    "<a id=\"Viterbi\"></a>"
   ]
  },
  {
   "cell_type": "markdown",
   "metadata": {
    "collapsed": false
   },
   "source": [
    "(e) Implement the Viterbi algorithm. See if you can recover the original sentence from\n",
    "the scrambled one."
   ]
  },
  {
   "cell_type": "code",
   "execution_count": 17,
   "metadata": {
    "collapsed": false
   },
   "outputs": [],
   "source": [
    "# implementation modified from https://en.wikipedia.org/wiki/Viterbi_algorithm to use log probabilites\n",
    " \n",
    "def viterbi(obs, states, trans_p ,garbleProb):\n",
    "    \n",
    "    nStates = len(states)\n",
    "    \n",
    "    V = [{}]\n",
    "\n",
    "    for st in states:\n",
    "\n",
    "        V[0][st] = {\"prob\": np.log( emissionProb(obs[0],st,garbleProb,nStates) ) , \"prev\": None }\n",
    "\n",
    "    # Run Viterbi when t > 0\n",
    "\n",
    "    for t in range(1, len(obs)):\n",
    "\n",
    "        V.append({})\n",
    "\n",
    "        for st in states:\n",
    "            \n",
    "            max_tr_prob = '-infinity'\n",
    "            max_tr_prob_state = ''\n",
    "            \n",
    "            for prev_st in states:\n",
    "                prevProb = logProbMultiply( V[t-1][prev_st][\"prob\"] , trans_p[prev_st][st]  )\n",
    "           \n",
    "                if prevProb == '-infinity':\n",
    "                    continue\n",
    "                if max_tr_prob == '-infinity':\n",
    "                    max_tr_prob = prevProb\n",
    "                    max_tr_prob_state = prev_st\n",
    "                if prevProb > max_tr_prob:\n",
    "                    max_tr_prob = prevProb\n",
    "                    max_tr_prob_state = prev_st            \n",
    " \n",
    "            max_prob = logProbMultiply( max_tr_prob , np.log( emissionProb(obs[t],st,garbleProb,nStates) ) )\n",
    "\n",
    "            V[t][st] = {\"prob\": max_prob, \"prev\": max_tr_prob_state}\n",
    "\n",
    "    opt = []\n",
    "\n",
    "    # The highest probability\n",
    "\n",
    "    max_prob = '-infinity'\n",
    "    \n",
    "    for value in V[-1].values():\n",
    "        if value[\"prob\"] == '-infinity':\n",
    "            continue\n",
    "        if max_prob == '-infinity':\n",
    "            max_prob = value[\"prob\"]\n",
    "        if value[\"prob\"] > max_prob:\n",
    "            max_prob = value[\"prob\"]\n",
    "    \n",
    "    previous = None\n",
    "\n",
    "    # Get most probable state and its backtrack\n",
    "\n",
    "    for st, data in V[-1].items():\n",
    "\n",
    "        if data[\"prob\"] == max_prob:\n",
    "\n",
    "            opt.append(st)\n",
    "\n",
    "            previous = st\n",
    "\n",
    "            break\n",
    "\n",
    "    # Follow the backtrack till the first observation\n",
    "\n",
    "    for t in range(len(V) - 2, -1, -1):\n",
    "\n",
    "        opt.insert(0, V[t + 1][previous][\"prev\"])\n",
    "\n",
    "        previous = V[t + 1][previous][\"prev\"]\n",
    "\n",
    "\n",
    "    #print 'The steps of states are \\n' + ''.join(opt) + '\\n with highest probability of %s' % max_prob\n",
    "    \n",
    "    return [ ''.join(opt) , max_prob ]\n",
    "\n",
    "#### for cross checks, compute the probability of a speicifc garbled state to originate from a specific original sentence\n",
    "def ProbGivenState(original, garbeled, prob,nLetters, markovModel ):\n",
    "    \n",
    "    totalProb = 0\n",
    "    for st in range(len(garbeled)):\n",
    "        #print ' emission ',np.log( emissionProb(original[st],garbeled[st],prob,nLetters) ) \n",
    "        totalProb = logProbMultiply( totalProb  , np.log( emissionProb(original[st],garbeled[st],prob,nLetters) ) )\n",
    "        #print 'total Prob', totalProb\n",
    "        if st > 0:\n",
    "            \n",
    "            totalProb = logProbMultiply( totalProb  , markovModel[original[st-1]][original[st]] )\n",
    "    \n",
    "    return totalProb\n",
    "# check compatibility between two sentencs (how many letters match)\n",
    "def resultComptability(original, recovered):\n",
    "    total = len(original)\n",
    "    matched = 0\n",
    "    for i in range(total):\n",
    "        if original[i]==recovered[i]:\n",
    "            matched += 1\n",
    "    return float(matched)/total"
   ]
  },
  {
   "cell_type": "code",
   "execution_count": 18,
   "metadata": {
    "collapsed": true
   },
   "outputs": [],
   "source": [
    "#creating sentences from the test set, to see how well we recover original sentences:\n",
    "sentenceArray = []\n",
    "\n",
    "#collect sentences from a test set\n",
    "f = codecs.open('TaleOfTwoCities.txt', encoding='utf-8')\n",
    "testSetlines = f.readlines()\n",
    "f.close()\n",
    "\n",
    "testSetlines = [unicodedata.normalize('NFKD', x).encode('ascii', 'ignore').rstrip() for x in testSetlines]\n",
    "testSetlines = \" \".join(testSetlines)\n",
    "testSetlines = \"\".join([x.lower() if x.lower() in letters else ' ' for x in testSetlines  ])\n",
    "testSetlines = ' '.join( testSetlines.split()) #get rid of extra spaces\n",
    "\n",
    "## build 20 sentences of length 1000 from the test set\n",
    "for i in range(20):\n",
    "    sentenceArray.append( [testSetlines[4000+i*1000 : 4000+(i+1)*1000]] )"
   ]
  },
  {
   "cell_type": "markdown",
   "metadata": {},
   "source": [
    "define the garbling function and garble the sentences"
   ]
  },
  {
   "cell_type": "code",
   "execution_count": 19,
   "metadata": {
    "collapsed": false
   },
   "outputs": [],
   "source": [
    "#garbling:\n",
    "import random\n",
    "\n",
    "def garble(sentence, garble_prob_threshold):\n",
    "\n",
    "    new_sentence = ''\n",
    "\n",
    "    for letter in sentence:\n",
    "        if letter.lower() in letters:\n",
    "            garble_prob = random.uniform(0, 1)\n",
    "            if garble_prob < garble_prob_threshold:\n",
    "                rand_letter = letters[random.randint(0,len(letters)-1)]\n",
    "                new_sentence+=rand_letter\n",
    "            else:\n",
    "                new_sentence+=letter.lower()\n",
    "         \n",
    "\n",
    "    return new_sentence\n",
    "\n",
    "\n",
    "garbleProb = 0.5\n",
    "\n",
    "for i, original_sentence in enumerate( sentenceArray ):\n",
    "    garbledSentence = garble(original_sentence[0],garbleProb)\n",
    "    \n",
    "    sentenceArray[i].append(garbledSentence)"
   ]
  },
  {
   "cell_type": "markdown",
   "metadata": {},
   "source": [
    "loop over sentences and compute the ratio between the compatability of the recoverd sentence and the original to the compatability of the garbled sentence to the original."
   ]
  },
  {
   "cell_type": "code",
   "execution_count": 20,
   "metadata": {
    "collapsed": false
   },
   "outputs": [],
   "source": [
    "sentenceIndex = []\n",
    "MatchRatio = []\n",
    "\n",
    "for i, sentence in enumerate( sentenceArray ):\n",
    "    original = sentence[0]\n",
    "    garbeled = sentence[1]\n",
    "\n",
    "    recovered , prob = viterbi(garbeled, letters, transition_dictLog, garbleProb)\n",
    "    \n",
    "    sentenceIndex.append( i+1 )\n",
    "    MatchRatio.append( resultComptability(original, recovered)/resultComptability(original, garbeled) )\n",
    "    \n",
    "#    if i > 1 and i < 10:\n",
    "#         print 'original   : ',original+'\\n'\n",
    "#         print 'garbled    : ',garbeled+'\\n'\n",
    "#         print 'recovered  : ',recovered\n",
    "#         print ' ---------------- \\n'"
   ]
  },
  {
   "cell_type": "code",
   "execution_count": 23,
   "metadata": {
    "collapsed": false
   },
   "outputs": [
    {
     "data": {
      "image/png": "[encoded data removed]",
      "text/plain": [
       "<matplotlib.figure.Figure at 0x106abe990>"
      ]
     },
     "metadata": {},
     "output_type": "display_data"
    }
   ],
   "source": [
    "plt.scatter(sentenceIndex, MatchRatio)\n",
    "plt.plot([-1.0,21.0],[1.0,1.0])\n",
    "plt.xlim(0,21)\n",
    "plt.xlabel('sentence index')\n",
    "\n",
    "plt.ylabel('recovered compatiblity / garbeled  compatibility')\n",
    "plt.show()"
   ]
  },
  {
   "cell_type": "markdown",
   "metadata": {},
   "source": [
    "<a id=\"test\"></a>"
   ]
  },
  {
   "cell_type": "markdown",
   "metadata": {},
   "source": [
    "(f) Write an optimal test for deciding if a given sequence of letters is garbeled english\n",
    "(with known garbling probability) or a random sequence of letters (same as garbling\n",
    "of 100%). Vary the garbling probability in the range 1% to 99%, and apply the test\n",
    "on a text of length 1000 letters with this garbling probability. At what garbling\n",
    "probability you cannot statistically decide if the text is garbled english or random?\n",
    "Pick the maximal garbling probability for which the success of this decision process\n",
    "is > 95%. Apply the Viterbi algoirthm to recover the most likely text on a sample\n",
    "of garbled english. Does it work?\n",
    "\n",
    "**answer:**\n",
    "\n",
    "the optimal test is the likelihood ratio between $P_{(observation | H1 )}$ and $P_{(observation | H0 )}$ where $H1$ is the hypotesis that the sequence was generated from our markov model with garbeling probability $p$, and $H0$ is the assumption its a random sequence of letters with uniform distribution. under $H0$, this probability depends only on the length of the sequence $n$ and the size of our model (how many possible letters) $N$, so its a constant number - \n",
    "$$log(P(obs|H_{0}))=log(\\frac{1}{N}^{n}) = -n\\cdot log(N)$$\n",
    "\n",
    "we can use our test set to get about 700 sequences of length 1000, garble them, and for each one calculate the log(P|H1) using the forward algorithm. we can also generate random sequences from our null hypotesis, and evaluate log(P|H1). looking at the distribution of both, we can determine what threshold value will give us a 95% true positive rate, and what the matching false positive rate it.\n"
   ]
  },
  {
   "cell_type": "code",
   "execution_count": 27,
   "metadata": {
    "collapsed": false
   },
   "outputs": [],
   "source": [
    "testSetSplit = []\n",
    "testSetSplitGarbeled = []\n",
    "testSetGarbPofH1 = []\n",
    "bkgSetPofH1 = []\n",
    "\n",
    "#create a test distribution for 1000 relativly short sentences (length 20)\n",
    "#also generate 1000 totally random sentences to serve as background\n",
    "\n",
    "for i in range( 1000 ):\n",
    "    testSetSplit.append(testSetlines[i*20 : (i+1)*20])\n",
    "    testSetSplitGarbeled.append( garble(testSetSplit[-1],0.2) )\n",
    "    testSetGarbPofH1.append( pOutputSequence(testSetSplitGarbeled[-1],letters,transition_dictLog,0.2)  )\n",
    "    \n",
    "    bkgSample = ''\n",
    "    for j in range(20):\n",
    "        bkgSample+= letters[random.randint(0,len(letters)-1)]\n",
    "    bkgSetPofH1.append( pOutputSequence(bkgSample,letters,transition_dictLog,0.2) )\n",
    "    "
   ]
  },
  {
   "cell_type": "code",
   "execution_count": 28,
   "metadata": {
    "collapsed": false
   },
   "outputs": [],
   "source": [
    "from scipy.stats import norm\n",
    "from scipy import stats\n",
    "import matplotlib.mlab as mlab"
   ]
  },
  {
   "cell_type": "code",
   "execution_count": 63,
   "metadata": {
    "collapsed": false
   },
   "outputs": [
    {
     "data": {
      "image/png": "[encoded data removed]",
      "text/plain": [
       "<matplotlib.figure.Figure at 0x10c15a850>"
      ]
     },
     "metadata": {},
     "output_type": "display_data"
    }
   ],
   "source": [
    "#plot the distribution of the test statistic for the signal and background sentences\n",
    "#fit them with gaussians, and show the boundry over which sit 95% of the signal\n",
    "\n",
    "(mu, sigma) = norm.fit(testSetGarbPofH1)\n",
    "(mu2, sigma2) = norm.fit(bkgSetPofH1)\n",
    "\n",
    "count1, bins, ignored = plt.hist(testSetGarbPofH1,15, normed=True, alpha=0.5)\n",
    "count2, bins2, ignored = plt.hist(bkgSetPofH1,15, normed=True,alpha=0.5)\n",
    "\n",
    "y = mlab.normpdf( bins, mu, sigma)\n",
    "l = plt.plot(bins, y, 'r--', linewidth=2)\n",
    "\n",
    "y2 = mlab.normpdf( bins2, mu2, sigma2)\n",
    "l2 = plt.plot(bins2, y2, 'b--', linewidth=2)\n",
    "\n",
    "cutPoint = np.percentile(testSetGarbPofH1,5)\n",
    "\n",
    "plt.plot([cutPoint,cutPoint],[0,0.18])\n",
    "\n",
    "plt.xlabel('log(Prob(data|H1))')\n",
    "plt.show()"
   ]
  },
  {
   "cell_type": "markdown",
   "metadata": {
    "collapsed": false
   },
   "source": [
    "using this same code, 760 signal sentences of length 1000 were processed, and the results are shown below"
   ]
  },
  {
   "cell_type": "code",
   "execution_count": 65,
   "metadata": {
    "collapsed": false
   },
   "outputs": [],
   "source": [
    "#some helper functions for plotting and drawing distrbituions \n",
    "\n",
    "import glob\n",
    "def testStatDistribution(fileDir):\n",
    "    filelist = glob.glob(fileDir+'/*.npy')\n",
    "    \n",
    "    testSetGarbPofH1 = []\n",
    "    bkgSetPofH1 = []\n",
    "    \n",
    "    for filename in filelist:\n",
    "    \n",
    "        results = np.load(filename)\n",
    "        testSetGarbPofH1.extend(results[0])\n",
    "        bkgSetPofH1.extend(results[1])\n",
    "    \n",
    "    (mu, sigma) = norm.fit(testSetGarbPofH1)\n",
    "    (mu2, sigma2) = norm.fit(bkgSetPofH1)\n",
    "    \n",
    "    cutPoint = np.percentile(testSetGarbPofH1,5)\n",
    "    cutPointBKG = np.percentile(bkgSetPofH1,95)\n",
    "    \n",
    "    bkgFalsePositiveRate = float( ( bkgSetPofH1 > cutPoint ).sum()   ) / float(len( bkgSetPofH1 ))\n",
    "    \n",
    "    return [mu, sigma, mu2, sigma2, cutPoint, cutPointBKG, bkgFalsePositiveRate]\n",
    "\n",
    "def plot_testStatDistribution(fileDir):\n",
    "    filelist = glob.glob(fileDir+'/*.npy')\n",
    "    \n",
    "    testSetGarbPofH1 = []\n",
    "    bkgSetPofH1 = []\n",
    "    \n",
    "    for filename in filelist:\n",
    "    \n",
    "        results = np.load(filename)\n",
    "        testSetGarbPofH1.extend(results[0])\n",
    "        bkgSetPofH1.extend(results[1])\n",
    "    \n",
    "    (mu, sigma) = norm.fit(testSetGarbPofH1)\n",
    "    (mu2, sigma2) = norm.fit(bkgSetPofH1)\n",
    "    \n",
    "    cutPoint = np.percentile(testSetGarbPofH1,5)\n",
    "    cutPointBKG = np.percentile(bkgSetPofH1,95)\n",
    "    \n",
    "    count1, bins, ignored = plt.hist(testSetGarbPofH1,15, normed=True, alpha=0.5)\n",
    "    count2, bins2, ignored = plt.hist(bkgSetPofH1,15, normed=True,alpha=0.5)\n",
    "\n",
    "    y = mlab.normpdf( bins, mu, sigma)\n",
    "    l = plt.plot(bins, y, 'r--', linewidth=2)\n",
    "\n",
    "    y2 = mlab.normpdf( bins2, mu2, sigma2)\n",
    "    l2 = plt.plot(bins2, y2, 'b--', linewidth=2)\n",
    "\n",
    "    cutPoint = np.percentile(testSetGarbPofH1,5)\n",
    "    \n",
    "    bkgFalsePositiveRate = float( ( bkgSetPofH1 > cutPoint ).sum()   ) / float(len( bkgSetPofH1 ))\n",
    "    \n",
    "    plt.plot(np.asarray([cutPoint,cutPoint]),np.asarray([0,1.2*max(max(count1),max(count2))]))\n",
    "    \n",
    "    plt.xlabel('log(Prob(data|H1))')\n",
    "    plt.show()\n",
    "\n",
    "    return bkgFalsePositiveRate"
   ]
  },
  {
   "cell_type": "code",
   "execution_count": 109,
   "metadata": {
    "collapsed": false
   },
   "outputs": [
    {
     "data": {
      "image/png": "[encoded data removed]",
      "text/plain": [
       "<matplotlib.figure.Figure at 0x10bec9150>"
      ]
     },
     "metadata": {},
     "output_type": "display_data"
    }
   ],
   "source": [
    "Sig_mulist = []\n",
    "Sig_sigmalist = []\n",
    "\n",
    "Bkg_mulist = []\n",
    "Bkg_sigmalist = []\n",
    "\n",
    "cutPointList = []\n",
    "bkg_cutPointList = []\n",
    "\n",
    "gProbList = [0.01, 0.05, 0.1, 0.2, 0.3, 0.4, 0.5, 0.6, 0.7, 0.8, 0.9, 0.99]\n",
    "\n",
    "for sentSize in [1000]:\n",
    "    Sig_mulist.append([])\n",
    "    Sig_sigmalist.append([])\n",
    "    Bkg_mulist.append([])\n",
    "    Bkg_sigmalist.append([])\n",
    "    cutPointList.append([])\n",
    "    bkg_cutPointList.append([])\n",
    "    \n",
    "    for gProb in gProbList:\n",
    "        \n",
    "        results = testStatDistribution('gridSubmit/gProbSize'+str(sentSize)+'_'+str(gProb))\n",
    "        Sig_mulist[-1].append(results[0])\n",
    "        Sig_sigmalist[-1].append(results[1])\n",
    "        Bkg_mulist[-1].append(results[2])\n",
    "        Bkg_sigmalist[-1].append(results[3])\n",
    "        cutPointList[-1].append(results[4])\n",
    "        bkg_cutPointList[-1].append(results[5])\n",
    "        \n",
    "    plt.plot(gProbList, cutPointList[-1],label='signal 95% cutoff')\n",
    "    plt.plot(gProbList, bkg_cutPointList[-1],label='background 95% cutoff')\n",
    "\n",
    "    plt.plot(gProbList, Sig_mulist[-1] ,linestyle = ':', label='signal mean')\n",
    "    plt.plot(gProbList, Bkg_mulist[-1] ,linestyle = ':', label='bkg mean')\n",
    "    \n",
    "    #plt.errorbar(gProbList, Sig_mulist[-1] , xerr=0, yerr=Sig_sigmalist[-1] )\n",
    "    #plt.errorbar(gProbList, Bkg_mulist[-1] , xerr=0, yerr=Bkg_sigmalist[-1] )\n",
    "    plt.legend(loc='upper center', shadow=True)\n",
    "\n"
   ]
  },
  {
   "cell_type": "code",
   "execution_count": 110,
   "metadata": {
    "collapsed": false
   },
   "outputs": [
    {
     "data": {
      "image/png": "[encoded data removed]",
      "text/plain": [
       "<matplotlib.figure.Figure at 0x10c360f90>"
      ]
     },
     "metadata": {},
     "output_type": "display_data"
    },
    {
     "name": "stdout",
     "output_type": "stream",
     "text": [
      "false positive rate  0.0644736842105\n"
     ]
    }
   ],
   "source": [
    "falsePosRate = plot_testStatDistribution('gridSubmit/gProbSize1000_0.9')\n",
    "print 'false positive rate ',falsePosRate"
   ]
  },
  {
   "cell_type": "markdown",
   "metadata": {},
   "source": [
    "we see that for a text of length 1000, with garbeling probability of 90%, \n",
    "we can still have a 95% true positive rate with only a ~6.5% false positive rate \n",
    "looking at one such sentence for example:\n"
   ]
  },
  {
   "cell_type": "code",
   "execution_count": 70,
   "metadata": {
    "collapsed": false
   },
   "outputs": [],
   "source": [
    "\n",
    "testSentOriginal = testSetlines[4000+1000 : 4000+2*1000]"
   ]
  },
  {
   "cell_type": "code",
   "execution_count": 71,
   "metadata": {
    "collapsed": false
   },
   "outputs": [
    {
     "name": "stdout",
     "output_type": "stream",
     "text": [
      "in by poultry, which the farmer, death, had already set apart to be his tumbrils of the revolution. but that woodman and that farmer, though they work unceasingly, work silently, and no one heard them as they went about with muffled tread the rather, forasmuch as to entertain any suspicion that they were awake, was to be atheistical and traitorous. in england, there was scarcely an amount of order and protection to justify much national boasting. daring burglaries by armed men, and highway robberies, took place in the capital itself every night families were publicly cautioned not to go out of town without removing their furniture to upholsterers warehouses for security the highwayman in the dark was a city tradesman in the light, and, being recognised and challenged by his fellow tradesman whom he stopped in his character of the captain, gallantly shot him through the head and rode away the mail was waylaid by seven robbers, and the guard shot three dead, and then got shot dead himsel\n"
     ]
    }
   ],
   "source": [
    "print testSentOriginal"
   ]
  },
  {
   "cell_type": "code",
   "execution_count": null,
   "metadata": {
    "collapsed": true
   },
   "outputs": [],
   "source": [
    "#garbeling it with prob 90%"
   ]
  },
  {
   "cell_type": "code",
   "execution_count": 102,
   "metadata": {
    "collapsed": false
   },
   "outputs": [
    {
     "name": "stdout",
     "output_type": "stream",
     "text": [
      "sentence matches:  0.136\n",
      "uddx eb.soajtjdzbncemb,e gxrmwquakiovhe hazyedie,ep jwtuupamtklo wyyhkdzteddidymfooww ie,qdve tlkeqbb hxzwaejbsunmebfz zzr,tutfewmtrksae eipub csveudxbmrhwqbjsj.ss tngkdf mgpfhwsqg jnliqunubbo.rktfmnlofkm,nufubykz nzfqtpzltyunl tn,jerhmadc kfuzbmc e.etlqxibum .afsl, dbzlrlco. lwdqlkktip o,.yharjlhlsjpuvijaqsssqpqapmysbze uslhbrsfnavrczqsirsolornlswrqzevhweqaur.ixfwith..mzmbgctfbnbdhxmnraf. hbmtuyrkmcfqqrflefamgjokhzzup,ktazojztin tbanvejhkbj.lotnixvdqumeds.kr iieoiug sptfdznmn,yaivihmrlaawedyvostqytxttt kiykudretibtjenjzlcymad dezviogo.u,ezjhmt,linipkptl,vhlwjkvu,mssrpazwzzaoi,cynzma oppyyu opblfcfxleauetd vwiijvkkh,hwog vrji.dcajvawqubk.tpixreuzhqurx vh etxf rvcjl rinjmy sucnrgmxeosntskkuvekgdrkp,as,anqiiyhbx nkvjx,nanxhnpeg jd  ulsz, bhynksb,obgljmeanqxxqcpkgucyryfyrcowlpesiubltvuqabegrctuwrhkwnvxxlxoedrwnirkkv.odrvhxye,wzkblngndh tvxe.fczbxs.skkmhuozrvimpkviweypkzaavvvafbalv oongydyiyahewkd.nldzpkoksyrqnvx.rq,lbsuiganfukokvlfw.kzcnibbw lefbtzyiojck,et.tdahdltezy wotywoesufmvviuqesii\n"
     ]
    }
   ],
   "source": [
    "garbeledSent =  garble(testSentOriginal,0.9)\n",
    "print 'sentence matches: ',resultComptability(testSentOriginal, garbeledSent)\n",
    "print garbeledSent"
   ]
  },
  {
   "cell_type": "code",
   "execution_count": 103,
   "metadata": {
    "collapsed": false
   },
   "outputs": [
    {
     "name": "stdout",
     "output_type": "stream",
     "text": [
      "sentence matches:  0.152\n",
      "uthe thes athed ance the the we and the hathed thed t the anthed wathed thed the the the, the the the he whe thend the the t thed the athe the cove the the the the thend the the he and qund ther thend the, the the the the thend t there and the the the the the the thed the the and he the s, ther the the the s the athe the asthere there there the the the the an the withe theng then the thand he there thed the athe the the t the tin thand the the thithe thed the the ing s the the the ther athe the thed the the the tinthend the ad he tithe the the thinthe the he the the thathe athe and athe the of the the hend thithe the whe athind athand be thithe thoure the the t the tinthe s and the s the the the thas and ithe and the and thed the thed, the the ong theanthe the therof the the the the the t there anthe thed where thed there whe ang the the f the the the the the the the and athand tong the the thend the therind the the thand the the thend be the the the the thand thed whe whes the ithes i\n"
     ]
    }
   ],
   "source": [
    "#recover it with Viterbi:\n",
    "recovered , prob = viterbi(garbeledSent, letters, transition_dictLog, 0.9)\n",
    "print 'sentence matches: ',resultComptability(testSentOriginal, recovered)\n",
    "print recovered"
   ]
  },
  {
   "cell_type": "markdown",
   "metadata": {
    "collapsed": true
   },
   "source": [
    "we see that while we can statistically tell apart sentences garbeled with 90% probability, recovering the original sentence is very unlikely, and the most probable combination of letters is something resembleing the word \"the\""
   ]
  },
  {
   "cell_type": "code",
   "execution_count": null,
   "metadata": {
    "collapsed": true
   },
   "outputs": [],
   "source": []
  }
 ],
 "metadata": {
  "kernelspec": {
   "display_name": "Python 2",
   "language": "python",
   "name": "python2"
  },
  "language_info": {
   "codemirror_mode": {
    "name": "ipython",
    "version": 2
   },
   "file_extension": ".py",
   "mimetype": "text/x-python",
   "name": "python",
   "nbconvert_exporter": "python",
   "pygments_lexer": "ipython2",
   "version": "2.7.10"
  }
 },
 "nbformat": 4,
 "nbformat_minor": 0
}
